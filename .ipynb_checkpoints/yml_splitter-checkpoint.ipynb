{
 "cells": [
  {
   "cell_type": "code",
   "execution_count": 60,
   "metadata": {},
   "outputs": [],
   "source": [
    "import yaml"
   ]
  },
  {
   "cell_type": "code",
   "execution_count": 61,
   "metadata": {},
   "outputs": [],
   "source": [
    "with open(r'./_data/members.yml') as file:\n",
    "    members = yaml.full_load(file)"
   ]
  },
  {
   "cell_type": "code",
   "execution_count": 62,
   "metadata": {},
   "outputs": [],
   "source": [
    "for m in members:\n",
    "    m['title'] = m['name']\n",
    "    del m['name']\n",
    "    filename = m['title']\n",
    "    with open(r'./_profiles/{}.md'.format(filename), 'w') as f:\n",
    "        f.write(\"---\\n\")\n",
    "        f.write(\"layout: biography\\n\")\n",
    "        for k, v in m.items():\n",
    "            f.write(\"{}: {}\\n\".format(k,v))\n",
    "        f.write(\"---\\n\")"
   ]
  },
  {
   "cell_type": "code",
   "execution_count": null,
   "metadata": {},
   "outputs": [],
   "source": []
  }
 ],
 "metadata": {
  "kernelspec": {
   "display_name": "Python 3",
   "language": "python",
   "name": "python3"
  },
  "language_info": {
   "codemirror_mode": {
    "name": "ipython",
    "version": 3
   },
   "file_extension": ".py",
   "mimetype": "text/x-python",
   "name": "python",
   "nbconvert_exporter": "python",
   "pygments_lexer": "ipython3",
   "version": "3.6.7"
  }
 },
 "nbformat": 4,
 "nbformat_minor": 4
}
